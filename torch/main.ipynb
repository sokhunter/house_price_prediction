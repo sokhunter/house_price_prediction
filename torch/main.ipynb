{
 "cells": [
  {
   "cell_type": "code",
   "execution_count": 1,
   "metadata": {},
   "outputs": [],
   "source": [
    "import numpy as np\n",
    "import pandas as pd\n",
    "from torch.utils.data import DataLoader\n",
    "import json"
   ]
  },
  {
   "cell_type": "code",
   "execution_count": 2,
   "metadata": {},
   "outputs": [],
   "source": [
    "import dataset\n",
    "import algorithm"
   ]
  },
  {
   "cell_type": "code",
   "execution_count": 3,
   "metadata": {},
   "outputs": [],
   "source": [
    "CONFIG = json.load(open('config.json'))"
   ]
  },
  {
   "cell_type": "code",
   "execution_count": 4,
   "metadata": {},
   "outputs": [],
   "source": [
    "Dataset = dataset.download_dataset(CONFIG['data']['filename'])"
   ]
  },
  {
   "cell_type": "code",
   "execution_count": 5,
   "metadata": {},
   "outputs": [
    {
     "output_type": "execute_result",
     "data": {
      "text/plain": [
       "    area  material  condicion  anio_construccion  anio_remodelacion sotano  \\\n",
       "0   8450         7          5               2003               2003     Gd   \n",
       "1   9600         6          8               1976               1976     Gd   \n",
       "2  11250         7          5               2001               2002     Gd   \n",
       "3   9550         7          5               1915               1970     TA   \n",
       "4  14260         8          5               2000               2000     Gd   \n",
       "\n",
       "  calefaccion aire_acondicionado  area_construida_piso_1  \\\n",
       "0        GasA                  Y                     856   \n",
       "1        GasA                  Y                    1262   \n",
       "2        GasA                  Y                     920   \n",
       "3        GasA                  Y                     961   \n",
       "4        GasA                  Y                    1145   \n",
       "\n",
       "   area_construida_piso_2  ...  banios  banios_sin_ducha  dormitorios  \\\n",
       "0                     854  ...       2                 1            3   \n",
       "1                       0  ...       2                 0            3   \n",
       "2                     866  ...       2                 1            3   \n",
       "3                     756  ...       1                 0            3   \n",
       "4                    1053  ...       2                 1            4   \n",
       "\n",
       "   cocinas  chimeneas  area_garage  area_piscina  mes_venta  anio_venta  \\\n",
       "0        1          0          548             0          2        2008   \n",
       "1        1          1          460             0          5        2007   \n",
       "2        1          1          608             0          9        2008   \n",
       "3        1          1          642             0          2        2006   \n",
       "4        1          1          836             0         12        2008   \n",
       "\n",
       "   precio  \n",
       "0  208500  \n",
       "1  181500  \n",
       "2  223500  \n",
       "3  140000  \n",
       "4  250000  \n",
       "\n",
       "[5 rows x 21 columns]"
      ],
      "text/html": "<div>\n<style scoped>\n    .dataframe tbody tr th:only-of-type {\n        vertical-align: middle;\n    }\n\n    .dataframe tbody tr th {\n        vertical-align: top;\n    }\n\n    .dataframe thead th {\n        text-align: right;\n    }\n</style>\n<table border=\"1\" class=\"dataframe\">\n  <thead>\n    <tr style=\"text-align: right;\">\n      <th></th>\n      <th>area</th>\n      <th>material</th>\n      <th>condicion</th>\n      <th>anio_construccion</th>\n      <th>anio_remodelacion</th>\n      <th>sotano</th>\n      <th>calefaccion</th>\n      <th>aire_acondicionado</th>\n      <th>area_construida_piso_1</th>\n      <th>area_construida_piso_2</th>\n      <th>...</th>\n      <th>banios</th>\n      <th>banios_sin_ducha</th>\n      <th>dormitorios</th>\n      <th>cocinas</th>\n      <th>chimeneas</th>\n      <th>area_garage</th>\n      <th>area_piscina</th>\n      <th>mes_venta</th>\n      <th>anio_venta</th>\n      <th>precio</th>\n    </tr>\n  </thead>\n  <tbody>\n    <tr>\n      <th>0</th>\n      <td>8450</td>\n      <td>7</td>\n      <td>5</td>\n      <td>2003</td>\n      <td>2003</td>\n      <td>Gd</td>\n      <td>GasA</td>\n      <td>Y</td>\n      <td>856</td>\n      <td>854</td>\n      <td>...</td>\n      <td>2</td>\n      <td>1</td>\n      <td>3</td>\n      <td>1</td>\n      <td>0</td>\n      <td>548</td>\n      <td>0</td>\n      <td>2</td>\n      <td>2008</td>\n      <td>208500</td>\n    </tr>\n    <tr>\n      <th>1</th>\n      <td>9600</td>\n      <td>6</td>\n      <td>8</td>\n      <td>1976</td>\n      <td>1976</td>\n      <td>Gd</td>\n      <td>GasA</td>\n      <td>Y</td>\n      <td>1262</td>\n      <td>0</td>\n      <td>...</td>\n      <td>2</td>\n      <td>0</td>\n      <td>3</td>\n      <td>1</td>\n      <td>1</td>\n      <td>460</td>\n      <td>0</td>\n      <td>5</td>\n      <td>2007</td>\n      <td>181500</td>\n    </tr>\n    <tr>\n      <th>2</th>\n      <td>11250</td>\n      <td>7</td>\n      <td>5</td>\n      <td>2001</td>\n      <td>2002</td>\n      <td>Gd</td>\n      <td>GasA</td>\n      <td>Y</td>\n      <td>920</td>\n      <td>866</td>\n      <td>...</td>\n      <td>2</td>\n      <td>1</td>\n      <td>3</td>\n      <td>1</td>\n      <td>1</td>\n      <td>608</td>\n      <td>0</td>\n      <td>9</td>\n      <td>2008</td>\n      <td>223500</td>\n    </tr>\n    <tr>\n      <th>3</th>\n      <td>9550</td>\n      <td>7</td>\n      <td>5</td>\n      <td>1915</td>\n      <td>1970</td>\n      <td>TA</td>\n      <td>GasA</td>\n      <td>Y</td>\n      <td>961</td>\n      <td>756</td>\n      <td>...</td>\n      <td>1</td>\n      <td>0</td>\n      <td>3</td>\n      <td>1</td>\n      <td>1</td>\n      <td>642</td>\n      <td>0</td>\n      <td>2</td>\n      <td>2006</td>\n      <td>140000</td>\n    </tr>\n    <tr>\n      <th>4</th>\n      <td>14260</td>\n      <td>8</td>\n      <td>5</td>\n      <td>2000</td>\n      <td>2000</td>\n      <td>Gd</td>\n      <td>GasA</td>\n      <td>Y</td>\n      <td>1145</td>\n      <td>1053</td>\n      <td>...</td>\n      <td>2</td>\n      <td>1</td>\n      <td>4</td>\n      <td>1</td>\n      <td>1</td>\n      <td>836</td>\n      <td>0</td>\n      <td>12</td>\n      <td>2008</td>\n      <td>250000</td>\n    </tr>\n  </tbody>\n</table>\n<p>5 rows × 21 columns</p>\n</div>"
     },
     "metadata": {},
     "execution_count": 5
    }
   ],
   "source": [
    "Dataset.head()"
   ]
  },
  {
   "cell_type": "code",
   "execution_count": 6,
   "metadata": {},
   "outputs": [
    {
     "output_type": "execute_result",
     "data": {
      "text/plain": [
       "    area  material  condicion  anio_construccion  anio_remodelacion sotano  \\\n",
       "0   8450         7          5               2003               2003      0   \n",
       "1   9600         6          8               1976               1976      0   \n",
       "2  11250         7          5               2001               2002      0   \n",
       "3   9550         7          5               1915               1970      1   \n",
       "4  14260         8          5               2000               2000      0   \n",
       "\n",
       "  calefaccion aire_acondicionado  area_construida_piso_1  \\\n",
       "0           1                  1                     856   \n",
       "1           1                  1                    1262   \n",
       "2           1                  1                     920   \n",
       "3           1                  1                     961   \n",
       "4           1                  1                    1145   \n",
       "\n",
       "   area_construida_piso_2  ...  banios  banios_sin_ducha  dormitorios  \\\n",
       "0                     854  ...       2                 1            3   \n",
       "1                       0  ...       2                 0            3   \n",
       "2                     866  ...       2                 1            3   \n",
       "3                     756  ...       1                 0            3   \n",
       "4                    1053  ...       2                 1            4   \n",
       "\n",
       "   cocinas  chimeneas  area_garage  area_piscina  mes_venta  anio_venta  \\\n",
       "0        1          0          548             0          2        2008   \n",
       "1        1          1          460             0          5        2007   \n",
       "2        1          1          608             0          9        2008   \n",
       "3        1          1          642             0          2        2006   \n",
       "4        1          1          836             0         12        2008   \n",
       "\n",
       "   precio  \n",
       "0  208500  \n",
       "1  181500  \n",
       "2  223500  \n",
       "3  140000  \n",
       "4  250000  \n",
       "\n",
       "[5 rows x 21 columns]"
      ],
      "text/html": "<div>\n<style scoped>\n    .dataframe tbody tr th:only-of-type {\n        vertical-align: middle;\n    }\n\n    .dataframe tbody tr th {\n        vertical-align: top;\n    }\n\n    .dataframe thead th {\n        text-align: right;\n    }\n</style>\n<table border=\"1\" class=\"dataframe\">\n  <thead>\n    <tr style=\"text-align: right;\">\n      <th></th>\n      <th>area</th>\n      <th>material</th>\n      <th>condicion</th>\n      <th>anio_construccion</th>\n      <th>anio_remodelacion</th>\n      <th>sotano</th>\n      <th>calefaccion</th>\n      <th>aire_acondicionado</th>\n      <th>area_construida_piso_1</th>\n      <th>area_construida_piso_2</th>\n      <th>...</th>\n      <th>banios</th>\n      <th>banios_sin_ducha</th>\n      <th>dormitorios</th>\n      <th>cocinas</th>\n      <th>chimeneas</th>\n      <th>area_garage</th>\n      <th>area_piscina</th>\n      <th>mes_venta</th>\n      <th>anio_venta</th>\n      <th>precio</th>\n    </tr>\n  </thead>\n  <tbody>\n    <tr>\n      <th>0</th>\n      <td>8450</td>\n      <td>7</td>\n      <td>5</td>\n      <td>2003</td>\n      <td>2003</td>\n      <td>0</td>\n      <td>1</td>\n      <td>1</td>\n      <td>856</td>\n      <td>854</td>\n      <td>...</td>\n      <td>2</td>\n      <td>1</td>\n      <td>3</td>\n      <td>1</td>\n      <td>0</td>\n      <td>548</td>\n      <td>0</td>\n      <td>2</td>\n      <td>2008</td>\n      <td>208500</td>\n    </tr>\n    <tr>\n      <th>1</th>\n      <td>9600</td>\n      <td>6</td>\n      <td>8</td>\n      <td>1976</td>\n      <td>1976</td>\n      <td>0</td>\n      <td>1</td>\n      <td>1</td>\n      <td>1262</td>\n      <td>0</td>\n      <td>...</td>\n      <td>2</td>\n      <td>0</td>\n      <td>3</td>\n      <td>1</td>\n      <td>1</td>\n      <td>460</td>\n      <td>0</td>\n      <td>5</td>\n      <td>2007</td>\n      <td>181500</td>\n    </tr>\n    <tr>\n      <th>2</th>\n      <td>11250</td>\n      <td>7</td>\n      <td>5</td>\n      <td>2001</td>\n      <td>2002</td>\n      <td>0</td>\n      <td>1</td>\n      <td>1</td>\n      <td>920</td>\n      <td>866</td>\n      <td>...</td>\n      <td>2</td>\n      <td>1</td>\n      <td>3</td>\n      <td>1</td>\n      <td>1</td>\n      <td>608</td>\n      <td>0</td>\n      <td>9</td>\n      <td>2008</td>\n      <td>223500</td>\n    </tr>\n    <tr>\n      <th>3</th>\n      <td>9550</td>\n      <td>7</td>\n      <td>5</td>\n      <td>1915</td>\n      <td>1970</td>\n      <td>1</td>\n      <td>1</td>\n      <td>1</td>\n      <td>961</td>\n      <td>756</td>\n      <td>...</td>\n      <td>1</td>\n      <td>0</td>\n      <td>3</td>\n      <td>1</td>\n      <td>1</td>\n      <td>642</td>\n      <td>0</td>\n      <td>2</td>\n      <td>2006</td>\n      <td>140000</td>\n    </tr>\n    <tr>\n      <th>4</th>\n      <td>14260</td>\n      <td>8</td>\n      <td>5</td>\n      <td>2000</td>\n      <td>2000</td>\n      <td>0</td>\n      <td>1</td>\n      <td>1</td>\n      <td>1145</td>\n      <td>1053</td>\n      <td>...</td>\n      <td>2</td>\n      <td>1</td>\n      <td>4</td>\n      <td>1</td>\n      <td>1</td>\n      <td>836</td>\n      <td>0</td>\n      <td>12</td>\n      <td>2008</td>\n      <td>250000</td>\n    </tr>\n  </tbody>\n</table>\n<p>5 rows × 21 columns</p>\n</div>"
     },
     "metadata": {},
     "execution_count": 6
    }
   ],
   "source": [
    "data = dataset.get_data(Dataset)\n",
    "data.head()"
   ]
  },
  {
   "cell_type": "code",
   "execution_count": 7,
   "metadata": {},
   "outputs": [],
   "source": [
    "normalize_data = dataset.Normalizer.transform(data)"
   ]
  },
  {
   "cell_type": "code",
   "execution_count": 8,
   "metadata": {},
   "outputs": [],
   "source": [
    "data_x, data_y = dataset.split_data_x_y(normalize_data)"
   ]
  },
  {
   "cell_type": "code",
   "execution_count": 9,
   "metadata": {},
   "outputs": [],
   "source": [
    "data_x_train, data_x_test = dataset.split_data_train_test(data_x, CONFIG[\"data\"][\"train_split_size\"])\n",
    "data_y_train, data_y_test = dataset.split_data_train_test(data_y, CONFIG[\"data\"][\"train_split_size\"])"
   ]
  },
  {
   "cell_type": "code",
   "execution_count": 10,
   "metadata": {},
   "outputs": [],
   "source": [
    "dataset_train = dataset.TimeSeriesDataset(data_x_train, data_y_train)\n",
    "dataset_test = dataset.TimeSeriesDataset(data_x_test, data_y_test)"
   ]
  },
  {
   "cell_type": "code",
   "execution_count": 11,
   "metadata": {},
   "outputs": [],
   "source": [
    "# DataLoader => Devuelve un conjunto de iteraciones, cada iteracion contiene un arreglo de 'batch_size' registros\n",
    "train_dataloader = DataLoader(dataset_train, CONFIG[\"training\"][\"batch_size\"], shuffle=True)\n",
    "test_dataloader = DataLoader(dataset_test, CONFIG[\"training\"][\"batch_size\"], shuffle=True)"
   ]
  },
  {
   "cell_type": "code",
   "execution_count": 12,
   "metadata": {},
   "outputs": [],
   "source": [
    "model = algorithm.Model(config_model=CONFIG[\"model\"], config_training=CONFIG[\"training\"])"
   ]
  },
  {
   "cell_type": "code",
   "execution_count": 13,
   "metadata": {},
   "outputs": [
    {
     "output_type": "stream",
     "name": "stdout",
     "text": [
      "Epoch[1/100] | loss train:0.008330, test:0.001252 | lr:0.010000\n",
      "Epoch[10/100] | loss train:0.001127, test:0.000364 | lr:0.010000\n",
      "Epoch[20/100] | loss train:0.000868, test:0.000444 | lr:0.010000\n",
      "Epoch[30/100] | loss train:0.000839, test:0.000344 | lr:0.010000\n",
      "Epoch[40/100] | loss train:0.000474, test:0.000256 | lr:0.010000\n",
      "Epoch[50/100] | loss train:0.000500, test:0.000361 | lr:0.010000\n",
      "Epoch[60/100] | loss train:0.000337, test:0.000267 | lr:0.010000\n",
      "Epoch[70/100] | loss train:0.000398, test:0.000279 | lr:0.010000\n",
      "Epoch[80/100] | loss train:0.000311, test:0.000234 | lr:0.010000\n",
      "Epoch[90/100] | loss train:0.000251, test:0.000248 | lr:0.010000\n",
      "Epoch[100/100] | loss train:0.000284, test:0.000368 | lr:0.010000\n"
     ]
    }
   ],
   "source": [
    "# Entrenamiento del modelo\n",
    "for epoch in range(CONFIG[\"training\"][\"num_epoch\"]):\n",
    "    loss_train, lr_train = model.run_epoch(train_dataloader, is_training=True)\n",
    "    loss_test, lr_test = model.run_epoch(test_dataloader)\n",
    "    if epoch == 0 or ((epoch+1)%10 == 0):\n",
    "        print('Epoch[{}/{}] | loss train:{:.6f}, test:{:.6f} | lr:{:.6f}'\n",
    "              .format(epoch+1, CONFIG[\"training\"][\"num_epoch\"], loss_train, loss_test, lr_train))"
   ]
  },
  {
   "cell_type": "code",
   "execution_count": 14,
   "metadata": {},
   "outputs": [
    {
     "output_type": "stream",
     "name": "stdout",
     "text": [
      "Price predict: 114752, Price real: 107000, Diferencia: 7752\nPrice predict: 191051, Price real: 175500, Diferencia: 15551\nPrice predict: 144790, Price real: 137000, Diferencia: 7790\nPrice predict: 274485, Price real: 227000, Diferencia: 47485\nPrice predict: 201597, Price real: 179600, Diferencia: 21997\nPrice predict: 176609, Price real: 162900, Diferencia: 13709\nPrice predict: 138110, Price real: 158000, Diferencia: -19890\nPrice predict: 204309, Price real: 200000, Diferencia: 4309\nPrice predict: 148138, Price real: 129500, Diferencia: 18638\nPrice predict: 81588, Price real: 52500, Diferencia: 29088\nPrice predict: 179187, Price real: 184000, Diferencia: -4813\nPrice predict: 149351, Price real: 163000, Diferencia: -13649\nPrice predict: 139296, Price real: 143750, Diferencia: -4454\nPrice predict: 166716, Price real: 177000, Diferencia: -10284\nPrice predict: 122942, Price real: 119000, Diferencia: 3942\nPrice predict: 111455, Price real: 119500, Diferencia: -8045\nPrice predict: 90871, Price real: 68400, Diferencia: 22471\nPrice predict: 199834, Price real: 180000, Diferencia: 19834\nPrice predict: 142052, Price real: 127000, Diferencia: 15052\nPrice predict: 197225, Price real: 230000, Diferencia: -32775\nPrice predict: 173294, Price real: 130000, Diferencia: 43294\nPrice predict: 235560, Price real: 271000, Diferencia: -35440\nPrice predict: 116978, Price real: 119000, Diferencia: -2022\nPrice predict: 514564, Price real: 625000, Diferencia: -110436\nPrice predict: 241025, Price real: 240000, Diferencia: 1025\nPrice predict: 150045, Price real: 144000, Diferencia: 6045\nPrice predict: 108415, Price real: 92000, Diferencia: 16415\nPrice predict: 188960, Price real: 203000, Diferencia: -14040\nPrice predict: 256611, Price real: 281000, Diferencia: -24389\nPrice predict: 88769, Price real: 99900, Diferencia: -11131\nPrice predict: 115656, Price real: 115000, Diferencia: 656\nPrice predict: 239247, Price real: 215000, Diferencia: 24247\nPrice predict: 111468, Price real: 64500, Diferencia: 46968\nPrice predict: 482547, Price real: 465000, Diferencia: 17547\nPrice predict: 117796, Price real: 137900, Diferencia: -20104\nPrice predict: 166119, Price real: 179200, Diferencia: -13081\nPrice predict: 195441, Price real: 216000, Diferencia: -20559\nPrice predict: 147465, Price real: 148000, Diferencia: -535\nPrice predict: 189504, Price real: 186500, Diferencia: 3004\nPrice predict: 289180, Price real: 271900, Diferencia: 17280\nPrice predict: 150880, Price real: 142000, Diferencia: 8880\nPrice predict: 161505, Price real: 140000, Diferencia: 21505\nPrice predict: 160894, Price real: 171900, Diferencia: -11006\nPrice predict: 207842, Price real: 235000, Diferencia: -27158\nPrice predict: 196706, Price real: 160000, Diferencia: 36706\nPrice predict: 217765, Price real: 193879, Diferencia: 23886\nPrice predict: 282647, Price real: 295493, Diferencia: -12846\nPrice predict: 252043, Price real: 250000, Diferencia: 2043\nPrice predict: 161057, Price real: 193000, Diferencia: -31943\nPrice predict: 105696, Price real: 119000, Diferencia: -13304\nPrice predict: 581879, Price real: 381000, Diferencia: 200879\nPrice predict: 136745, Price real: 136500, Diferencia: 245\nPrice predict: 88304, Price real: 113000, Diferencia: -24696\nPrice predict: 123151, Price real: 127500, Diferencia: -4349\nPrice predict: 142981, Price real: 147000, Diferencia: -4019\nPrice predict: 106263, Price real: 95000, Diferencia: 11263\nPrice predict: 329424, Price real: 378500, Diferencia: -49076\nPrice predict: 144710, Price real: 200000, Diferencia: -55290\nPrice predict: 146935, Price real: 140000, Diferencia: 6935\nPrice predict: 158697, Price real: 145000, Diferencia: 13697\nPrice predict: 116797, Price real: 91500, Diferencia: 25297\nPrice predict: 179280, Price real: 168000, Diferencia: 11280\nPrice predict: 140554, Price real: 134900, Diferencia: 5654\nPrice predict: 140608, Price real: 104900, Diferencia: 35708\n"
     ]
    }
   ],
   "source": [
    "# Verificacion de la prediccion del modelo\n",
    "for idx, (x, y) in enumerate(test_dataloader):\n",
    "    x = x.to(CONFIG[\"training\"][\"device\"])\n",
    "    out = model(x)\n",
    "    out_vector = out.detach().numpy()\n",
    "    y_vector = y.numpy()\n",
    "    \n",
    "    for i in range(len(y_vector)):\n",
    "        price_predict = dataset.Normalizer.inverse_transform(out_vector[i], 21)\n",
    "        price_real = dataset.Normalizer.inverse_transform(y_vector[i], 21)\n",
    "        print('Price predict: {0}, Price real: {1}, Diferencia: {2}'.format(price_predict, price_real, price_predict-price_real))\n",
    "        \n",
    "    break"
   ]
  },
  {
   "cell_type": "code",
   "execution_count": null,
   "metadata": {},
   "outputs": [],
   "source": []
  }
 ],
 "metadata": {
  "kernelspec": {
   "name": "python3",
   "display_name": "Python 3.9.4 64-bit"
  },
  "language_info": {
   "codemirror_mode": {
    "name": "ipython",
    "version": 3
   },
   "file_extension": ".py",
   "mimetype": "text/x-python",
   "name": "python",
   "nbconvert_exporter": "python",
   "pygments_lexer": "ipython3",
   "version": "3.9.4"
  },
  "interpreter": {
   "hash": "25bf1dab56f13e21d80318cd5e789e076f92a14fa9924f370a2a818164c863f4"
  }
 },
 "nbformat": 4,
 "nbformat_minor": 2
}