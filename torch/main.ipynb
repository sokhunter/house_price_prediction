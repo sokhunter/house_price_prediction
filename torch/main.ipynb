{
 "cells": [
  {
   "cell_type": "code",
   "execution_count": 1,
   "metadata": {},
   "outputs": [],
   "source": [
    "import numpy as np\n",
    "import pandas as pd\n",
    "from torch.utils.data import DataLoader\n",
    "import json\n",
    "import dataset\n",
    "import algorithm"
   ]
  },
  {
   "cell_type": "code",
   "execution_count": 2,
   "metadata": {},
   "outputs": [],
   "source": [
    "CONFIG = json.load(open('config.json'))"
   ]
  },
  {
   "cell_type": "code",
   "execution_count": 3,
   "metadata": {},
   "outputs": [],
   "source": [
    "Dataset = dataset.download_dataset(CONFIG['data']['filename'])"
   ]
  },
  {
   "cell_type": "code",
   "execution_count": 4,
   "metadata": {},
   "outputs": [
    {
     "output_type": "execute_result",
     "data": {
      "text/plain": [
       "    area  material  condicion  anio_construccion  anio_remodelacion sotano  \\\n",
       "0   8450         7          5               2003               2003      0   \n",
       "1   9600         6          8               1976               1976      0   \n",
       "2  11250         7          5               2001               2002      0   \n",
       "3   9550         7          5               1915               1970      1   \n",
       "4  14260         8          5               2000               2000      0   \n",
       "\n",
       "  calefaccion aire_acondicionado  area_construida_piso_1  area_construida  \\\n",
       "0           1                  1                     856             1710   \n",
       "1           1                  1                    1262             1262   \n",
       "2           1                  1                     920             1786   \n",
       "3           1                  1                     961             1717   \n",
       "4           1                  1                    1145             2198   \n",
       "\n",
       "   banios  banios_sin_ducha  dormitorios  chimeneas  area_garage  \\\n",
       "0       2                 1            3          0          548   \n",
       "1       2                 0            3          1          460   \n",
       "2       2                 1            3          1          608   \n",
       "3       1                 0            3          1          642   \n",
       "4       2                 1            4          1          836   \n",
       "\n",
       "   area_piscina  precio  \n",
       "0             0  208500  \n",
       "1             0  181500  \n",
       "2             0  223500  \n",
       "3             0  140000  \n",
       "4             0  250000  "
      ],
      "text/html": "<div>\n<style scoped>\n    .dataframe tbody tr th:only-of-type {\n        vertical-align: middle;\n    }\n\n    .dataframe tbody tr th {\n        vertical-align: top;\n    }\n\n    .dataframe thead th {\n        text-align: right;\n    }\n</style>\n<table border=\"1\" class=\"dataframe\">\n  <thead>\n    <tr style=\"text-align: right;\">\n      <th></th>\n      <th>area</th>\n      <th>material</th>\n      <th>condicion</th>\n      <th>anio_construccion</th>\n      <th>anio_remodelacion</th>\n      <th>sotano</th>\n      <th>calefaccion</th>\n      <th>aire_acondicionado</th>\n      <th>area_construida_piso_1</th>\n      <th>area_construida</th>\n      <th>banios</th>\n      <th>banios_sin_ducha</th>\n      <th>dormitorios</th>\n      <th>chimeneas</th>\n      <th>area_garage</th>\n      <th>area_piscina</th>\n      <th>precio</th>\n    </tr>\n  </thead>\n  <tbody>\n    <tr>\n      <th>0</th>\n      <td>8450</td>\n      <td>7</td>\n      <td>5</td>\n      <td>2003</td>\n      <td>2003</td>\n      <td>0</td>\n      <td>1</td>\n      <td>1</td>\n      <td>856</td>\n      <td>1710</td>\n      <td>2</td>\n      <td>1</td>\n      <td>3</td>\n      <td>0</td>\n      <td>548</td>\n      <td>0</td>\n      <td>208500</td>\n    </tr>\n    <tr>\n      <th>1</th>\n      <td>9600</td>\n      <td>6</td>\n      <td>8</td>\n      <td>1976</td>\n      <td>1976</td>\n      <td>0</td>\n      <td>1</td>\n      <td>1</td>\n      <td>1262</td>\n      <td>1262</td>\n      <td>2</td>\n      <td>0</td>\n      <td>3</td>\n      <td>1</td>\n      <td>460</td>\n      <td>0</td>\n      <td>181500</td>\n    </tr>\n    <tr>\n      <th>2</th>\n      <td>11250</td>\n      <td>7</td>\n      <td>5</td>\n      <td>2001</td>\n      <td>2002</td>\n      <td>0</td>\n      <td>1</td>\n      <td>1</td>\n      <td>920</td>\n      <td>1786</td>\n      <td>2</td>\n      <td>1</td>\n      <td>3</td>\n      <td>1</td>\n      <td>608</td>\n      <td>0</td>\n      <td>223500</td>\n    </tr>\n    <tr>\n      <th>3</th>\n      <td>9550</td>\n      <td>7</td>\n      <td>5</td>\n      <td>1915</td>\n      <td>1970</td>\n      <td>1</td>\n      <td>1</td>\n      <td>1</td>\n      <td>961</td>\n      <td>1717</td>\n      <td>1</td>\n      <td>0</td>\n      <td>3</td>\n      <td>1</td>\n      <td>642</td>\n      <td>0</td>\n      <td>140000</td>\n    </tr>\n    <tr>\n      <th>4</th>\n      <td>14260</td>\n      <td>8</td>\n      <td>5</td>\n      <td>2000</td>\n      <td>2000</td>\n      <td>0</td>\n      <td>1</td>\n      <td>1</td>\n      <td>1145</td>\n      <td>2198</td>\n      <td>2</td>\n      <td>1</td>\n      <td>4</td>\n      <td>1</td>\n      <td>836</td>\n      <td>0</td>\n      <td>250000</td>\n    </tr>\n  </tbody>\n</table>\n</div>"
     },
     "metadata": {},
     "execution_count": 4
    }
   ],
   "source": [
    "data = dataset.get_data(Dataset)\n",
    "data.head()"
   ]
  },
  {
   "cell_type": "code",
   "execution_count": 5,
   "metadata": {},
   "outputs": [],
   "source": [
    "normalize_data = dataset.Normalizer.transform(data)"
   ]
  },
  {
   "cell_type": "code",
   "execution_count": 6,
   "metadata": {},
   "outputs": [],
   "source": [
    "data_x, data_y = dataset.split_data_x_y(normalize_data)"
   ]
  },
  {
   "cell_type": "code",
   "execution_count": 7,
   "metadata": {},
   "outputs": [],
   "source": [
    "data_x_train, data_x_test = dataset.split_data_train_test(data_x, CONFIG[\"data\"][\"train_split_size\"])\n",
    "data_y_train, data_y_test = dataset.split_data_train_test(data_y, CONFIG[\"data\"][\"train_split_size\"])"
   ]
  },
  {
   "cell_type": "code",
   "execution_count": 8,
   "metadata": {},
   "outputs": [],
   "source": [
    "dataset_train = dataset.TimeSeriesDataset(data_x_train, data_y_train)\n",
    "dataset_test = dataset.TimeSeriesDataset(data_x_test, data_y_test)"
   ]
  },
  {
   "cell_type": "code",
   "execution_count": 9,
   "metadata": {},
   "outputs": [],
   "source": [
    "# DataLoader => Devuelve un conjunto de iteraciones, cada iteracion contiene un arreglo de 'batch_size' registros\n",
    "train_dataloader = DataLoader(dataset_train, CONFIG[\"training\"][\"batch_size\"], shuffle=True)\n",
    "test_dataloader = DataLoader(dataset_test, CONFIG[\"training\"][\"batch_size\"], shuffle=True)"
   ]
  },
  {
   "cell_type": "code",
   "execution_count": 10,
   "metadata": {},
   "outputs": [],
   "source": [
    "model = algorithm.Model(config_model=CONFIG[\"model\"], config_training=CONFIG[\"training\"])"
   ]
  },
  {
   "cell_type": "code",
   "execution_count": 11,
   "metadata": {},
   "outputs": [
    {
     "output_type": "stream",
     "name": "stdout",
     "text": [
      "Epoch[1/100] | loss train:0.004967, test:0.000780 | lr:0.010000\n",
      "Epoch[10/100] | loss train:0.000860, test:0.000410 | lr:0.010000\n",
      "Epoch[20/100] | loss train:0.000893, test:0.000352 | lr:0.010000\n",
      "Epoch[30/100] | loss train:0.000457, test:0.000329 | lr:0.010000\n",
      "Epoch[40/100] | loss train:0.000527, test:0.000314 | lr:0.010000\n",
      "Epoch[50/100] | loss train:0.000495, test:0.000332 | lr:0.010000\n",
      "Epoch[60/100] | loss train:0.000636, test:0.000614 | lr:0.010000\n",
      "Epoch[70/100] | loss train:0.000505, test:0.000977 | lr:0.010000\n",
      "Epoch[80/100] | loss train:0.000396, test:0.000382 | lr:0.010000\n",
      "Epoch[90/100] | loss train:0.000445, test:0.000307 | lr:0.010000\n",
      "Epoch[100/100] | loss train:0.000424, test:0.000440 | lr:0.010000\n"
     ]
    }
   ],
   "source": [
    "# Entrenamiento del modelo\n",
    "for epoch in range(CONFIG[\"training\"][\"num_epoch\"]):\n",
    "    loss_train, lr_train = model.run_epoch(train_dataloader, is_training=True)\n",
    "    loss_test, lr_test = model.run_epoch(test_dataloader)\n",
    "    if epoch == 0 or ((epoch+1)%10 == 0):\n",
    "        print('Epoch[{}/{}] | loss train:{:.6f}, test:{:.6f} | lr:{:.6f}'\n",
    "              .format(epoch+1, CONFIG[\"training\"][\"num_epoch\"], loss_train, loss_test, lr_train))"
   ]
  },
  {
   "cell_type": "code",
   "execution_count": 13,
   "metadata": {},
   "outputs": [
    {
     "output_type": "stream",
     "name": "stdout",
     "text": [
      "Price predict: 133000, Price real: 127500, Diferencia: 5500 (1.0431372549019609)\nPrice predict: 98342, Price real: 90000, Diferencia: 8342 (1.0926888888888888)\nPrice predict: 257453, Price real: 250000, Diferencia: 7453 (1.029812)\nPrice predict: 137618, Price real: 143750, Diferencia: -6132 (0.9573426086956521)\nPrice predict: 193077, Price real: 174000, Diferencia: 19077 (1.1096379310344828)\nPrice predict: 211960, Price real: 200000, Diferencia: 11960 (1.0598)\nPrice predict: 208088, Price real: 224900, Diferencia: -16812 (0.9252467763450423)\nPrice predict: 133398, Price real: 153500, Diferencia: -20102 (0.869042345276873)\nPrice predict: 103134, Price real: 107000, Diferencia: -3866 (0.9638691588785047)\nPrice predict: 129964, Price real: 147500, Diferencia: -17536 (0.8811118644067797)\nPrice predict: 89723, Price real: 125500, Diferencia: -35777 (0.7149243027888447)\nPrice predict: 205878, Price real: 197900, Diferencia: 7978 (1.0403132895401719)\nPrice predict: 279161, Price real: 392500, Diferencia: -113339 (0.7112382165605096)\nPrice predict: 81964, Price real: 80500, Diferencia: 1464 (1.0181863354037266)\nPrice predict: 234636, Price real: 266500, Diferencia: -31864 (0.8804352720450281)\nPrice predict: 172825, Price real: 142500, Diferencia: 30325 (1.2128070175438597)\nPrice predict: 226370, Price real: 214000, Diferencia: 12370 (1.057803738317757)\nPrice predict: 242398, Price real: 282922, Diferencia: -40524 (0.8567661758364497)\nPrice predict: 115606, Price real: 144000, Diferencia: -28394 (0.8028194444444444)\nPrice predict: 78131, Price real: 113000, Diferencia: -34869 (0.6914247787610619)\nPrice predict: 202277, Price real: 184000, Diferencia: 18277 (1.0993315217391304)\nPrice predict: 146762, Price real: 154000, Diferencia: -7238 (0.953)\nPrice predict: 199404, Price real: 186700, Diferencia: 12704 (1.0680449919657204)\nPrice predict: 138711, Price real: 157900, Diferencia: -19189 (0.8784737175427486)\nPrice predict: 193566, Price real: 197000, Diferencia: -3434 (0.9825685279187817)\nPrice predict: 111043, Price real: 120500, Diferencia: -9457 (0.9215186721991702)\nPrice predict: 264856, Price real: 240000, Diferencia: 24856 (1.1035666666666666)\nPrice predict: 160897, Price real: 124000, Diferencia: 36897 (1.2975564516129032)\nPrice predict: 94253, Price real: 95000, Diferencia: -747 (0.9921368421052632)\nPrice predict: 190733, Price real: 203000, Diferencia: -12267 (0.9395714285714286)\nPrice predict: 107656, Price real: 145000, Diferencia: -37344 (0.7424551724137931)\nPrice predict: 148196, Price real: 160000, Diferencia: -11804 (0.926225)\nPrice predict: 232637, Price real: 232000, Diferencia: 637 (1.0027456896551725)\nPrice predict: 345180, Price real: 377500, Diferencia: -32320 (0.9143841059602649)\nPrice predict: 154050, Price real: 171000, Diferencia: -16950 (0.9008771929824562)\nPrice predict: 139319, Price real: 136500, Diferencia: 2819 (1.0206520146520146)\nPrice predict: 246191, Price real: 210000, Diferencia: 36191 (1.1723380952380953)\nPrice predict: 118208, Price real: 115000, Diferencia: 3208 (1.027895652173913)\nPrice predict: 158795, Price real: 143000, Diferencia: 15795 (1.1104545454545454)\nPrice predict: 107720, Price real: 105000, Diferencia: 2720 (1.0259047619047619)\nPrice predict: 136923, Price real: 147000, Diferencia: -10077 (0.9314489795918367)\nPrice predict: 206157, Price real: 170000, Diferencia: 36157 (1.2126882352941177)\nPrice predict: 281389, Price real: 271900, Diferencia: 9489 (1.034898859874954)\nPrice predict: 258450, Price real: 271000, Diferencia: -12550 (0.953690036900369)\nPrice predict: 107917, Price real: 119000, Diferencia: -11083 (0.9068655462184874)\nPrice predict: 168937, Price real: 167900, Diferencia: 1037 (1.0061762954139368)\nPrice predict: 91171, Price real: 119000, Diferencia: -27829 (0.7661428571428571)\nPrice predict: 334160, Price real: 147000, Diferencia: 187160 (2.2731972789115646)\nPrice predict: 101407, Price real: 123000, Diferencia: -21593 (0.8244471544715447)\nPrice predict: 253501, Price real: 248328, Diferencia: 5173 (1.0208313198672723)\nPrice predict: 349687, Price real: 302000, Diferencia: 47687 (1.1579039735099337)\nPrice predict: 198268, Price real: 195000, Diferencia: 3268 (1.0167589743589744)\nPrice predict: 172823, Price real: 176000, Diferencia: -3177 (0.9819488636363637)\nPrice predict: 104936, Price real: 91500, Diferencia: 13436 (1.1468415300546448)\nPrice predict: 241724, Price real: 250000, Diferencia: -8276 (0.966896)\nPrice predict: 33196, Price real: 52500, Diferencia: -19304 (0.6323047619047619)\nPrice predict: 163262, Price real: 144152, Diferencia: 19110 (1.1325684000221987)\nPrice predict: 300531, Price real: 295493, Diferencia: 5038 (1.0170494732531734)\nPrice predict: 140745, Price real: 149300, Diferencia: -8555 (0.9426992632283991)\nPrice predict: 179831, Price real: 165500, Diferencia: 14331 (1.0865921450151057)\nPrice predict: 190935, Price real: 180000, Diferencia: 10935 (1.06075)\nPrice predict: 240681, Price real: 235000, Diferencia: 5681 (1.0241744680851064)\nPrice predict: 225127, Price real: 215000, Diferencia: 10127 (1.0471023255813954)\nPrice predict: 203378, Price real: 176500, Diferencia: 26878 (1.1522832861189802)\nmargen de error 12.18%\n"
     ]
    }
   ],
   "source": [
    "# Verificacion de la prediccion del modelo\n",
    "error = 0\n",
    "i=0\n",
    "\n",
    "for idx, (x, y) in enumerate(test_dataloader):\n",
    "    i+=1\n",
    "    x = x.to(CONFIG[\"training\"][\"device\"])\n",
    "    out = model(x)\n",
    "    out_vector = out.detach().numpy()\n",
    "    y_vector = y.numpy()\n",
    "    for i in range(len(y_vector)):\n",
    "        price_predict = dataset.Normalizer.inverse_transform(out_vector[i], CONFIG[\"model\"][\"input_size\"]+1)\n",
    "        price_real = dataset.Normalizer.inverse_transform(y_vector[i], CONFIG[\"model\"][\"input_size\"]+1)\n",
    "        porcentage = price_predict/price_real\n",
    "        error += abs(1-porcentage)\n",
    "        print('Price predict: {0}, Price real: {1}, Diferencia: {2} ({3})'.format(price_predict, price_real, price_predict-price_real, (porcentage)))\n",
    "    \n",
    "    print(\"margen de error {}%\".format(round(100 * error / i, 2)))\n",
    "    break"
   ]
  },
  {
   "cell_type": "code",
   "execution_count": 24,
   "metadata": {},
   "outputs": [
    {
     "output_type": "stream",
     "name": "stdout",
     "text": [
      "0\n"
     ]
    }
   ],
   "source": [
    "import torch\n",
    "d = np.array([[8635, 5, 5, 1948, 2001, 'TA', 'GasA', 'Y', 1072, 1285,1, 0, 2, 0, 240, 0, 0]])\n",
    "d = pd.DataFrame(d, columns=['area', 'material', 'condicion', 'anio_construccion', 'anio_remodelacion', 'sotano', 'calefaccion',  'aire_acondicionado', 'area_construida_piso_1', 'area_construida', 'banios', 'banios_sin_ducha', 'dormitorios', 'chimeneas', 'area_garage', 'area_piscina', 'precio'])\n",
    "d = dataset.get_data(d)\n",
    "\n",
    "d = dataset.Normalizer.transform(d)\n",
    "info_x, _ = dataset.split_data_x_y(d)\n",
    "x = torch.tensor(info_x).float().to(CONFIG[\"training\"][\"device\"])\n",
    "out = model(x)\n",
    "out_vector = out.detach().numpy()\n",
    "price_predict = dataset.Normalizer.inverse_transform(out_vector[0], CONFIG[\"model\"][\"input_size\"]+1)\n",
    "print(price_predict)"
   ]
  },
  {
   "cell_type": "code",
   "execution_count": null,
   "metadata": {},
   "outputs": [],
   "source": []
  }
 ],
 "metadata": {
  "kernelspec": {
   "name": "python3",
   "display_name": "Python 3.9.4 64-bit"
  },
  "language_info": {
   "codemirror_mode": {
    "name": "ipython",
    "version": 3
   },
   "file_extension": ".py",
   "mimetype": "text/x-python",
   "name": "python",
   "nbconvert_exporter": "python",
   "pygments_lexer": "ipython3",
   "version": "3.9.4"
  },
  "interpreter": {
   "hash": "25bf1dab56f13e21d80318cd5e789e076f92a14fa9924f370a2a818164c863f4"
  }
 },
 "nbformat": 4,
 "nbformat_minor": 2
}