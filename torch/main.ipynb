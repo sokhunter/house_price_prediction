{
 "cells": [
  {
   "cell_type": "code",
   "execution_count": 1,
   "metadata": {},
   "outputs": [],
   "source": [
    "import numpy as np\n",
    "import pandas as pd\n",
    "from torch.utils.data import DataLoader\n",
    "import json\n",
    "import dataset\n",
    "import algorithm"
   ]
  },
  {
   "cell_type": "code",
   "execution_count": 2,
   "metadata": {},
   "outputs": [],
   "source": [
    "CONFIG = json.load(open('config.json'))"
   ]
  },
  {
   "cell_type": "code",
   "execution_count": 3,
   "metadata": {},
   "outputs": [],
   "source": [
    "Dataset = dataset.download_dataset(CONFIG['data']['filename'])"
   ]
  },
  {
   "cell_type": "code",
   "execution_count": 4,
   "metadata": {},
   "outputs": [
    {
     "output_type": "execute_result",
     "data": {
      "text/plain": [
       "    area  material  condicion  anio_construccion  anio_remodelacion sotano  \\\n",
       "0   8450         7          5               2003               2003      1   \n",
       "1   9600         6          8               1976               1976      1   \n",
       "2  11250         7          5               2001               2002      1   \n",
       "3   9550         7          5               1915               1970      2   \n",
       "4  14260         8          5               2000               2000      1   \n",
       "\n",
       "  calefaccion aire_acondicionado  area_construida_piso_1  area_construida  \\\n",
       "0           1                  1                     856             1710   \n",
       "1           1                  1                    1262             1262   \n",
       "2           1                  1                     920             1786   \n",
       "3           1                  1                     961             1717   \n",
       "4           1                  1                    1145             2198   \n",
       "\n",
       "   banios  banios_sin_ducha  dormitorios  chimeneas  area_garage  \\\n",
       "0       2                 1            3          0          548   \n",
       "1       2                 0            3          1          460   \n",
       "2       2                 1            3          1          608   \n",
       "3       1                 0            3          1          642   \n",
       "4       2                 1            4          1          836   \n",
       "\n",
       "   area_piscina  precio  \n",
       "0             0  208500  \n",
       "1             0  181500  \n",
       "2             0  223500  \n",
       "3             0  140000  \n",
       "4             0  250000  "
      ],
      "text/html": "<div>\n<style scoped>\n    .dataframe tbody tr th:only-of-type {\n        vertical-align: middle;\n    }\n\n    .dataframe tbody tr th {\n        vertical-align: top;\n    }\n\n    .dataframe thead th {\n        text-align: right;\n    }\n</style>\n<table border=\"1\" class=\"dataframe\">\n  <thead>\n    <tr style=\"text-align: right;\">\n      <th></th>\n      <th>area</th>\n      <th>material</th>\n      <th>condicion</th>\n      <th>anio_construccion</th>\n      <th>anio_remodelacion</th>\n      <th>sotano</th>\n      <th>calefaccion</th>\n      <th>aire_acondicionado</th>\n      <th>area_construida_piso_1</th>\n      <th>area_construida</th>\n      <th>banios</th>\n      <th>banios_sin_ducha</th>\n      <th>dormitorios</th>\n      <th>chimeneas</th>\n      <th>area_garage</th>\n      <th>area_piscina</th>\n      <th>precio</th>\n    </tr>\n  </thead>\n  <tbody>\n    <tr>\n      <th>0</th>\n      <td>8450</td>\n      <td>7</td>\n      <td>5</td>\n      <td>2003</td>\n      <td>2003</td>\n      <td>1</td>\n      <td>1</td>\n      <td>1</td>\n      <td>856</td>\n      <td>1710</td>\n      <td>2</td>\n      <td>1</td>\n      <td>3</td>\n      <td>0</td>\n      <td>548</td>\n      <td>0</td>\n      <td>208500</td>\n    </tr>\n    <tr>\n      <th>1</th>\n      <td>9600</td>\n      <td>6</td>\n      <td>8</td>\n      <td>1976</td>\n      <td>1976</td>\n      <td>1</td>\n      <td>1</td>\n      <td>1</td>\n      <td>1262</td>\n      <td>1262</td>\n      <td>2</td>\n      <td>0</td>\n      <td>3</td>\n      <td>1</td>\n      <td>460</td>\n      <td>0</td>\n      <td>181500</td>\n    </tr>\n    <tr>\n      <th>2</th>\n      <td>11250</td>\n      <td>7</td>\n      <td>5</td>\n      <td>2001</td>\n      <td>2002</td>\n      <td>1</td>\n      <td>1</td>\n      <td>1</td>\n      <td>920</td>\n      <td>1786</td>\n      <td>2</td>\n      <td>1</td>\n      <td>3</td>\n      <td>1</td>\n      <td>608</td>\n      <td>0</td>\n      <td>223500</td>\n    </tr>\n    <tr>\n      <th>3</th>\n      <td>9550</td>\n      <td>7</td>\n      <td>5</td>\n      <td>1915</td>\n      <td>1970</td>\n      <td>2</td>\n      <td>1</td>\n      <td>1</td>\n      <td>961</td>\n      <td>1717</td>\n      <td>1</td>\n      <td>0</td>\n      <td>3</td>\n      <td>1</td>\n      <td>642</td>\n      <td>0</td>\n      <td>140000</td>\n    </tr>\n    <tr>\n      <th>4</th>\n      <td>14260</td>\n      <td>8</td>\n      <td>5</td>\n      <td>2000</td>\n      <td>2000</td>\n      <td>1</td>\n      <td>1</td>\n      <td>1</td>\n      <td>1145</td>\n      <td>2198</td>\n      <td>2</td>\n      <td>1</td>\n      <td>4</td>\n      <td>1</td>\n      <td>836</td>\n      <td>0</td>\n      <td>250000</td>\n    </tr>\n  </tbody>\n</table>\n</div>"
     },
     "metadata": {},
     "execution_count": 4
    }
   ],
   "source": [
    "data = dataset.get_data(Dataset)\n",
    "data.head()"
   ]
  },
  {
   "cell_type": "code",
   "execution_count": 5,
   "metadata": {},
   "outputs": [],
   "source": [
    "normalize_data = dataset.Normalizer.transform(data)"
   ]
  },
  {
   "cell_type": "code",
   "execution_count": 6,
   "metadata": {},
   "outputs": [],
   "source": [
    "data_x, data_y = dataset.split_data_x_y(normalize_data)"
   ]
  },
  {
   "cell_type": "code",
   "execution_count": 7,
   "metadata": {},
   "outputs": [],
   "source": [
    "data_x_train, data_x_test = dataset.split_data_train_test(data_x, CONFIG[\"data\"][\"train_split_size\"])\n",
    "data_y_train, data_y_test = dataset.split_data_train_test(data_y, CONFIG[\"data\"][\"train_split_size\"])"
   ]
  },
  {
   "cell_type": "code",
   "execution_count": 8,
   "metadata": {},
   "outputs": [],
   "source": [
    "dataset_train = dataset.TimeSeriesDataset(data_x_train, data_y_train)\n",
    "dataset_test = dataset.TimeSeriesDataset(data_x_test, data_y_test)"
   ]
  },
  {
   "cell_type": "code",
   "execution_count": 9,
   "metadata": {},
   "outputs": [],
   "source": [
    "# DataLoader => Devuelve un conjunto de iteraciones, cada iteracion contiene un arreglo de 'batch_size' registros\n",
    "train_dataloader = DataLoader(dataset_train, CONFIG[\"training\"][\"batch_size\"], shuffle=True)\n",
    "test_dataloader = DataLoader(dataset_test, CONFIG[\"training\"][\"batch_size\"], shuffle=True)"
   ]
  },
  {
   "cell_type": "code",
   "execution_count": 10,
   "metadata": {},
   "outputs": [],
   "source": [
    "model = algorithm.Model(config_model=CONFIG[\"model\"], config_training=CONFIG[\"training\"])"
   ]
  },
  {
   "cell_type": "code",
   "execution_count": 11,
   "metadata": {},
   "outputs": [
    {
     "output_type": "stream",
     "name": "stdout",
     "text": [
      "Epoch[1/100] | loss train:0.004173, test:0.001194 | lr:0.010000\n",
      "Epoch[10/100] | loss train:0.000621, test:0.000292 | lr:0.010000\n",
      "Epoch[20/100] | loss train:0.000557, test:0.000623 | lr:0.010000\n",
      "Epoch[30/100] | loss train:0.000511, test:0.000293 | lr:0.010000\n",
      "Epoch[40/100] | loss train:0.000469, test:0.000268 | lr:0.010000\n",
      "Epoch[50/100] | loss train:0.000621, test:0.000337 | lr:0.010000\n",
      "Epoch[60/100] | loss train:0.000486, test:0.000319 | lr:0.010000\n",
      "Epoch[70/100] | loss train:0.000483, test:0.000506 | lr:0.010000\n",
      "Epoch[80/100] | loss train:0.000502, test:0.000228 | lr:0.010000\n",
      "Epoch[90/100] | loss train:0.000696, test:0.000263 | lr:0.010000\n",
      "Epoch[100/100] | loss train:0.000563, test:0.000287 | lr:0.010000\n"
     ]
    }
   ],
   "source": [
    "# Entrenamiento del modelo\n",
    "for epoch in range(CONFIG[\"training\"][\"num_epoch\"]):\n",
    "    loss_train, lr_train = model.run_epoch(train_dataloader, is_training=True)\n",
    "    loss_test, lr_test = model.run_epoch(test_dataloader)\n",
    "    if epoch == 0 or ((epoch+1)%10 == 0):\n",
    "        print('Epoch[{}/{}] | loss train:{:.6f}, test:{:.6f} | lr:{:.6f}'\n",
    "              .format(epoch+1, CONFIG[\"training\"][\"num_epoch\"], loss_train, loss_test, lr_train))"
   ]
  },
  {
   "cell_type": "code",
   "execution_count": 12,
   "metadata": {},
   "outputs": [
    {
     "output_type": "stream",
     "name": "stdout",
     "text": [
      "Price predict: 178227, Price real: 180000, Diferencia: -1773 (0.99015)\nPrice predict: 163665, Price real: 165000, Diferencia: -1335 (0.991909090909091)\nPrice predict: 166423, Price real: 193000, Diferencia: -26577 (0.8622953367875648)\nPrice predict: 103223, Price real: 125000, Diferencia: -21777 (0.825784)\nPrice predict: 113103, Price real: 138500, Diferencia: -25397 (0.8166281588447654)\nPrice predict: 169505, Price real: 185000, Diferencia: -15495 (0.9162432432432432)\nPrice predict: 104692, Price real: 120500, Diferencia: -15808 (0.8688132780082988)\nPrice predict: 109533, Price real: 112000, Diferencia: -2467 (0.9779732142857143)\nPrice predict: 112509, Price real: 91500, Diferencia: 21009 (1.2296065573770492)\nPrice predict: 185991, Price real: 179600, Diferencia: 6391 (1.0355846325167037)\nPrice predict: 107449, Price real: 119000, Diferencia: -11551 (0.9029327731092437)\nPrice predict: 107569, Price real: 104900, Diferencia: 2669 (1.025443279313632)\nPrice predict: 172907, Price real: 206900, Diferencia: -33993 (0.835703238279362)\nPrice predict: 76721, Price real: 113000, Diferencia: -36279 (0.6789469026548672)\nPrice predict: 178452, Price real: 195000, Diferencia: -16548 (0.9151384615384616)\nPrice predict: 142919, Price real: 157000, Diferencia: -14081 (0.910312101910828)\nPrice predict: 244848, Price real: 248328, Diferencia: -3480 (0.9859862762153281)\nPrice predict: 138246, Price real: 122000, Diferencia: 16246 (1.1331639344262294)\nPrice predict: 130025, Price real: 127000, Diferencia: 3025 (1.0238188976377953)\nPrice predict: 101220, Price real: 119000, Diferencia: -17780 (0.8505882352941176)\nPrice predict: 217581, Price real: 232000, Diferencia: -14419 (0.9378491379310345)\nPrice predict: 64128, Price real: 72500, Diferencia: -8372 (0.8845241379310345)\nPrice predict: 262391, Price real: 275000, Diferencia: -12609 (0.954149090909091)\nPrice predict: 183421, Price real: 170000, Diferencia: 13421 (1.0789470588235295)\nPrice predict: 139633, Price real: 169900, Diferencia: -30267 (0.821854031783402)\nPrice predict: 109674, Price real: 123000, Diferencia: -13326 (0.8916585365853659)\nPrice predict: 76002, Price real: 82500, Diferencia: -6498 (0.9212363636363636)\nPrice predict: 191314, Price real: 202500, Diferencia: -11186 (0.9447604938271605)\nPrice predict: 136987, Price real: 147000, Diferencia: -10013 (0.9318843537414966)\nPrice predict: 167794, Price real: 190000, Diferencia: -22206 (0.8831263157894736)\nPrice predict: 123562, Price real: 120000, Diferencia: 3562 (1.0296833333333333)\nPrice predict: 81658, Price real: 68400, Diferencia: 13258 (1.1938304093567251)\nPrice predict: 106975, Price real: 130000, Diferencia: -23025 (0.8228846153846154)\nPrice predict: 210648, Price real: 256000, Diferencia: -45352 (0.82284375)\nPrice predict: 215272, Price real: 164000, Diferencia: 51272 (1.3126341463414635)\nPrice predict: 150084, Price real: 149300, Diferencia: 784 (1.0052511721366377)\nPrice predict: 278819, Price real: 283463, Diferencia: -4644 (0.983616909437916)\nPrice predict: 185784, Price real: 176500, Diferencia: 9284 (1.052600566572238)\nPrice predict: 95662, Price real: 64500, Diferencia: 31162 (1.4831317829457364)\nPrice predict: 185013, Price real: 189000, Diferencia: -3987 (0.9789047619047619)\nPrice predict: 306890, Price real: 340000, Diferencia: -33110 (0.9026176470588235)\nPrice predict: 147070, Price real: 156500, Diferencia: -9430 (0.9397444089456869)\nPrice predict: 119678, Price real: 142000, Diferencia: -22322 (0.8428028169014085)\nPrice predict: 188368, Price real: 193000, Diferencia: -4632 (0.976)\nPrice predict: 96817, Price real: 105000, Diferencia: -8183 (0.9220666666666667)\nPrice predict: 132383, Price real: 145000, Diferencia: -12617 (0.9129862068965517)\nPrice predict: 59603, Price real: 52500, Diferencia: 7103 (1.1352952380952381)\nPrice predict: 188130, Price real: 235000, Diferencia: -46870 (0.8005531914893617)\nPrice predict: 178452, Price real: 186500, Diferencia: -8048 (0.9568471849865952)\nPrice predict: 223917, Price real: 282922, Diferencia: -59005 (0.7914442849972784)\nPrice predict: 183370, Price real: 235000, Diferencia: -51630 (0.7802978723404256)\nPrice predict: 125140, Price real: 104900, Diferencia: 20240 (1.1929456625357484)\nPrice predict: 184675, Price real: 197900, Diferencia: -13225 (0.9331733198585144)\nPrice predict: 257776, Price real: 281000, Diferencia: -23224 (0.9173523131672597)\nPrice predict: 252085, Price real: 290000, Diferencia: -37915 (0.8692586206896552)\nPrice predict: 152773, Price real: 143000, Diferencia: 9773 (1.0683426573426573)\nPrice predict: 139860, Price real: 122000, Diferencia: 17860 (1.1463934426229507)\nPrice predict: 242061, Price real: 250000, Diferencia: -7939 (0.968244)\nPrice predict: 224126, Price real: 265900, Diferencia: -41774 (0.8428958254983077)\nPrice predict: 144279, Price real: 145000, Diferencia: -721 (0.9950275862068966)\nPrice predict: 202448, Price real: 214000, Diferencia: -11552 (0.946018691588785)\nPrice predict: 150070, Price real: 177000, Diferencia: -26930 (0.8478531073446328)\nPrice predict: 140401, Price real: 139000, Diferencia: 1401 (1.0100791366906474)\nPrice predict: 195870, Price real: 227000, Diferencia: -31130 (0.862863436123348)\nmargen de error 11.17%\n"
     ]
    }
   ],
   "source": [
    "# Verificacion de la prediccion del modelo\n",
    "error = 0\n",
    "i=0\n",
    "\n",
    "for idx, (x, y) in enumerate(test_dataloader):\n",
    "    i+=1\n",
    "    x = x.to(CONFIG[\"training\"][\"device\"])\n",
    "    out = model(x)\n",
    "    out_vector = out.detach().numpy()\n",
    "    y_vector = y.numpy()\n",
    "    for i in range(len(y_vector)):\n",
    "        price_predict = dataset.Normalizer.inverse_transform(out_vector[i], CONFIG[\"model\"][\"input_size\"]+1)\n",
    "        price_real = dataset.Normalizer.inverse_transform(y_vector[i], CONFIG[\"model\"][\"input_size\"]+1)\n",
    "        porcentage = price_predict/price_real\n",
    "        error += abs(1-porcentage)\n",
    "        print('Price predict: {0}, Price real: {1}, Diferencia: {2} ({3})'.format(price_predict, price_real, price_predict-price_real, (porcentage)))\n",
    "    \n",
    "    print(\"margen de error {}%\".format(round(100 * error / i, 2)))\n",
    "    break"
   ]
  },
  {
   "cell_type": "code",
   "execution_count": 13,
   "metadata": {},
   "outputs": [
    {
     "output_type": "stream",
     "name": "stdout",
     "text": [
      "0\n"
     ]
    }
   ],
   "source": [
    "import torch\n",
    "d = np.array([[8635, 5, 5, 1948, 2001, 'TA', 'GasA', 'Y', 1072, 1285,1, 0, 2, 0, 240, 0, 0]])\n",
    "d = pd.DataFrame(d, columns=['area', 'material', 'condicion', 'anio_construccion', 'anio_remodelacion', 'sotano', 'calefaccion',  'aire_acondicionado', 'area_construida_piso_1', 'area_construida', 'banios', 'banios_sin_ducha', 'dormitorios', 'chimeneas', 'area_garage', 'area_piscina', 'precio'])\n",
    "d = dataset.get_data(d)\n",
    "\n",
    "d = dataset.Normalizer.transform(d)\n",
    "info_x, _ = dataset.split_data_x_y(d)\n",
    "x = torch.tensor(info_x).float().to(CONFIG[\"training\"][\"device\"])\n",
    "out = model(x)\n",
    "out_vector = out.detach().numpy()\n",
    "price_predict = dataset.Normalizer.inverse_transform(out_vector[0], CONFIG[\"model\"][\"input_size\"]+1)\n",
    "print(price_predict)"
   ]
  },
  {
   "cell_type": "code",
   "execution_count": null,
   "metadata": {},
   "outputs": [],
   "source": []
  }
 ],
 "metadata": {
  "kernelspec": {
   "name": "python3",
   "display_name": "Python 3.9.4 64-bit"
  },
  "language_info": {
   "codemirror_mode": {
    "name": "ipython",
    "version": 3
   },
   "file_extension": ".py",
   "mimetype": "text/x-python",
   "name": "python",
   "nbconvert_exporter": "python",
   "pygments_lexer": "ipython3",
   "version": "3.9.4"
  },
  "interpreter": {
   "hash": "25bf1dab56f13e21d80318cd5e789e076f92a14fa9924f370a2a818164c863f4"
  }
 },
 "nbformat": 4,
 "nbformat_minor": 2
}