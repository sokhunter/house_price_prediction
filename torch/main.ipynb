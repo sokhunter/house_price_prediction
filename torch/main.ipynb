{
 "cells": [
  {
   "cell_type": "code",
   "execution_count": 2,
   "metadata": {},
   "outputs": [],
   "source": [
    "import numpy as np\n",
    "import pandas as pd\n",
    "from torch.utils.data import DataLoader\n",
    "import json"
   ]
  },
  {
   "cell_type": "code",
   "execution_count": 3,
   "metadata": {},
   "outputs": [],
   "source": [
    "import dataset\n",
    "import algorithm"
   ]
  },
  {
   "cell_type": "code",
   "execution_count": 4,
   "metadata": {},
   "outputs": [],
   "source": [
    "CONFIG = json.load(open('config.json'))"
   ]
  },
  {
   "cell_type": "code",
   "execution_count": 5,
   "metadata": {},
   "outputs": [],
   "source": [
    "Dataset = dataset.download_dataset(CONFIG['data']['filename'])"
   ]
  },
  {
   "cell_type": "code",
   "execution_count": 6,
   "metadata": {},
   "outputs": [
    {
     "output_type": "execute_result",
     "data": {
      "text/plain": [
       "    area  material  condicion  anio_construccion  anio_remodelacion sotano  \\\n",
       "0   8450         7          5               2003               2003     Gd   \n",
       "1   9600         6          8               1976               1976     Gd   \n",
       "2  11250         7          5               2001               2002     Gd   \n",
       "3   9550         7          5               1915               1970     TA   \n",
       "4  14260         8          5               2000               2000     Gd   \n",
       "\n",
       "  calefaccion aire_acondicionado  area_construida_piso_1  \\\n",
       "0        GasA                  Y                     856   \n",
       "1        GasA                  Y                    1262   \n",
       "2        GasA                  Y                     920   \n",
       "3        GasA                  Y                     961   \n",
       "4        GasA                  Y                    1145   \n",
       "\n",
       "   area_construida_piso_2  ...  banios  banios_sin_ducha  dormitorios  \\\n",
       "0                     854  ...       2                 1            3   \n",
       "1                       0  ...       2                 0            3   \n",
       "2                     866  ...       2                 1            3   \n",
       "3                     756  ...       1                 0            3   \n",
       "4                    1053  ...       2                 1            4   \n",
       "\n",
       "   cocinas  chimeneas  area_garage  area_piscina  mes_venta  anio_venta  \\\n",
       "0        1          0          548             0          2        2008   \n",
       "1        1          1          460             0          5        2007   \n",
       "2        1          1          608             0          9        2008   \n",
       "3        1          1          642             0          2        2006   \n",
       "4        1          1          836             0         12        2008   \n",
       "\n",
       "   precio  \n",
       "0  208500  \n",
       "1  181500  \n",
       "2  223500  \n",
       "3  140000  \n",
       "4  250000  \n",
       "\n",
       "[5 rows x 21 columns]"
      ],
      "text/html": "<div>\n<style scoped>\n    .dataframe tbody tr th:only-of-type {\n        vertical-align: middle;\n    }\n\n    .dataframe tbody tr th {\n        vertical-align: top;\n    }\n\n    .dataframe thead th {\n        text-align: right;\n    }\n</style>\n<table border=\"1\" class=\"dataframe\">\n  <thead>\n    <tr style=\"text-align: right;\">\n      <th></th>\n      <th>area</th>\n      <th>material</th>\n      <th>condicion</th>\n      <th>anio_construccion</th>\n      <th>anio_remodelacion</th>\n      <th>sotano</th>\n      <th>calefaccion</th>\n      <th>aire_acondicionado</th>\n      <th>area_construida_piso_1</th>\n      <th>area_construida_piso_2</th>\n      <th>...</th>\n      <th>banios</th>\n      <th>banios_sin_ducha</th>\n      <th>dormitorios</th>\n      <th>cocinas</th>\n      <th>chimeneas</th>\n      <th>area_garage</th>\n      <th>area_piscina</th>\n      <th>mes_venta</th>\n      <th>anio_venta</th>\n      <th>precio</th>\n    </tr>\n  </thead>\n  <tbody>\n    <tr>\n      <th>0</th>\n      <td>8450</td>\n      <td>7</td>\n      <td>5</td>\n      <td>2003</td>\n      <td>2003</td>\n      <td>Gd</td>\n      <td>GasA</td>\n      <td>Y</td>\n      <td>856</td>\n      <td>854</td>\n      <td>...</td>\n      <td>2</td>\n      <td>1</td>\n      <td>3</td>\n      <td>1</td>\n      <td>0</td>\n      <td>548</td>\n      <td>0</td>\n      <td>2</td>\n      <td>2008</td>\n      <td>208500</td>\n    </tr>\n    <tr>\n      <th>1</th>\n      <td>9600</td>\n      <td>6</td>\n      <td>8</td>\n      <td>1976</td>\n      <td>1976</td>\n      <td>Gd</td>\n      <td>GasA</td>\n      <td>Y</td>\n      <td>1262</td>\n      <td>0</td>\n      <td>...</td>\n      <td>2</td>\n      <td>0</td>\n      <td>3</td>\n      <td>1</td>\n      <td>1</td>\n      <td>460</td>\n      <td>0</td>\n      <td>5</td>\n      <td>2007</td>\n      <td>181500</td>\n    </tr>\n    <tr>\n      <th>2</th>\n      <td>11250</td>\n      <td>7</td>\n      <td>5</td>\n      <td>2001</td>\n      <td>2002</td>\n      <td>Gd</td>\n      <td>GasA</td>\n      <td>Y</td>\n      <td>920</td>\n      <td>866</td>\n      <td>...</td>\n      <td>2</td>\n      <td>1</td>\n      <td>3</td>\n      <td>1</td>\n      <td>1</td>\n      <td>608</td>\n      <td>0</td>\n      <td>9</td>\n      <td>2008</td>\n      <td>223500</td>\n    </tr>\n    <tr>\n      <th>3</th>\n      <td>9550</td>\n      <td>7</td>\n      <td>5</td>\n      <td>1915</td>\n      <td>1970</td>\n      <td>TA</td>\n      <td>GasA</td>\n      <td>Y</td>\n      <td>961</td>\n      <td>756</td>\n      <td>...</td>\n      <td>1</td>\n      <td>0</td>\n      <td>3</td>\n      <td>1</td>\n      <td>1</td>\n      <td>642</td>\n      <td>0</td>\n      <td>2</td>\n      <td>2006</td>\n      <td>140000</td>\n    </tr>\n    <tr>\n      <th>4</th>\n      <td>14260</td>\n      <td>8</td>\n      <td>5</td>\n      <td>2000</td>\n      <td>2000</td>\n      <td>Gd</td>\n      <td>GasA</td>\n      <td>Y</td>\n      <td>1145</td>\n      <td>1053</td>\n      <td>...</td>\n      <td>2</td>\n      <td>1</td>\n      <td>4</td>\n      <td>1</td>\n      <td>1</td>\n      <td>836</td>\n      <td>0</td>\n      <td>12</td>\n      <td>2008</td>\n      <td>250000</td>\n    </tr>\n  </tbody>\n</table>\n<p>5 rows × 21 columns</p>\n</div>"
     },
     "metadata": {},
     "execution_count": 6
    }
   ],
   "source": [
    "Dataset.head()"
   ]
  },
  {
   "cell_type": "code",
   "execution_count": 7,
   "metadata": {},
   "outputs": [
    {
     "output_type": "execute_result",
     "data": {
      "text/plain": [
       "    area  material  condicion  anio_construccion  anio_remodelacion sotano  \\\n",
       "0   8450         7          5               2003               2003      0   \n",
       "1   9600         6          8               1976               1976      0   \n",
       "2  11250         7          5               2001               2002      0   \n",
       "3   9550         7          5               1915               1970      1   \n",
       "4  14260         8          5               2000               2000      0   \n",
       "\n",
       "  calefaccion aire_acondicionado  area_construida_piso_1  \\\n",
       "0           1                  1                     856   \n",
       "1           1                  1                    1262   \n",
       "2           1                  1                     920   \n",
       "3           1                  1                     961   \n",
       "4           1                  1                    1145   \n",
       "\n",
       "   area_construida_piso_2  ...  banios  banios_sin_ducha  dormitorios  \\\n",
       "0                     854  ...       2                 1            3   \n",
       "1                       0  ...       2                 0            3   \n",
       "2                     866  ...       2                 1            3   \n",
       "3                     756  ...       1                 0            3   \n",
       "4                    1053  ...       2                 1            4   \n",
       "\n",
       "   cocinas  chimeneas  area_garage  area_piscina  mes_venta  anio_venta  \\\n",
       "0        1          0          548             0          2        2008   \n",
       "1        1          1          460             0          5        2007   \n",
       "2        1          1          608             0          9        2008   \n",
       "3        1          1          642             0          2        2006   \n",
       "4        1          1          836             0         12        2008   \n",
       "\n",
       "   precio  \n",
       "0  208500  \n",
       "1  181500  \n",
       "2  223500  \n",
       "3  140000  \n",
       "4  250000  \n",
       "\n",
       "[5 rows x 21 columns]"
      ],
      "text/html": "<div>\n<style scoped>\n    .dataframe tbody tr th:only-of-type {\n        vertical-align: middle;\n    }\n\n    .dataframe tbody tr th {\n        vertical-align: top;\n    }\n\n    .dataframe thead th {\n        text-align: right;\n    }\n</style>\n<table border=\"1\" class=\"dataframe\">\n  <thead>\n    <tr style=\"text-align: right;\">\n      <th></th>\n      <th>area</th>\n      <th>material</th>\n      <th>condicion</th>\n      <th>anio_construccion</th>\n      <th>anio_remodelacion</th>\n      <th>sotano</th>\n      <th>calefaccion</th>\n      <th>aire_acondicionado</th>\n      <th>area_construida_piso_1</th>\n      <th>area_construida_piso_2</th>\n      <th>...</th>\n      <th>banios</th>\n      <th>banios_sin_ducha</th>\n      <th>dormitorios</th>\n      <th>cocinas</th>\n      <th>chimeneas</th>\n      <th>area_garage</th>\n      <th>area_piscina</th>\n      <th>mes_venta</th>\n      <th>anio_venta</th>\n      <th>precio</th>\n    </tr>\n  </thead>\n  <tbody>\n    <tr>\n      <th>0</th>\n      <td>8450</td>\n      <td>7</td>\n      <td>5</td>\n      <td>2003</td>\n      <td>2003</td>\n      <td>0</td>\n      <td>1</td>\n      <td>1</td>\n      <td>856</td>\n      <td>854</td>\n      <td>...</td>\n      <td>2</td>\n      <td>1</td>\n      <td>3</td>\n      <td>1</td>\n      <td>0</td>\n      <td>548</td>\n      <td>0</td>\n      <td>2</td>\n      <td>2008</td>\n      <td>208500</td>\n    </tr>\n    <tr>\n      <th>1</th>\n      <td>9600</td>\n      <td>6</td>\n      <td>8</td>\n      <td>1976</td>\n      <td>1976</td>\n      <td>0</td>\n      <td>1</td>\n      <td>1</td>\n      <td>1262</td>\n      <td>0</td>\n      <td>...</td>\n      <td>2</td>\n      <td>0</td>\n      <td>3</td>\n      <td>1</td>\n      <td>1</td>\n      <td>460</td>\n      <td>0</td>\n      <td>5</td>\n      <td>2007</td>\n      <td>181500</td>\n    </tr>\n    <tr>\n      <th>2</th>\n      <td>11250</td>\n      <td>7</td>\n      <td>5</td>\n      <td>2001</td>\n      <td>2002</td>\n      <td>0</td>\n      <td>1</td>\n      <td>1</td>\n      <td>920</td>\n      <td>866</td>\n      <td>...</td>\n      <td>2</td>\n      <td>1</td>\n      <td>3</td>\n      <td>1</td>\n      <td>1</td>\n      <td>608</td>\n      <td>0</td>\n      <td>9</td>\n      <td>2008</td>\n      <td>223500</td>\n    </tr>\n    <tr>\n      <th>3</th>\n      <td>9550</td>\n      <td>7</td>\n      <td>5</td>\n      <td>1915</td>\n      <td>1970</td>\n      <td>1</td>\n      <td>1</td>\n      <td>1</td>\n      <td>961</td>\n      <td>756</td>\n      <td>...</td>\n      <td>1</td>\n      <td>0</td>\n      <td>3</td>\n      <td>1</td>\n      <td>1</td>\n      <td>642</td>\n      <td>0</td>\n      <td>2</td>\n      <td>2006</td>\n      <td>140000</td>\n    </tr>\n    <tr>\n      <th>4</th>\n      <td>14260</td>\n      <td>8</td>\n      <td>5</td>\n      <td>2000</td>\n      <td>2000</td>\n      <td>0</td>\n      <td>1</td>\n      <td>1</td>\n      <td>1145</td>\n      <td>1053</td>\n      <td>...</td>\n      <td>2</td>\n      <td>1</td>\n      <td>4</td>\n      <td>1</td>\n      <td>1</td>\n      <td>836</td>\n      <td>0</td>\n      <td>12</td>\n      <td>2008</td>\n      <td>250000</td>\n    </tr>\n  </tbody>\n</table>\n<p>5 rows × 21 columns</p>\n</div>"
     },
     "metadata": {},
     "execution_count": 7
    }
   ],
   "source": [
    "data = dataset.get_data(Dataset)\n",
    "data.head()"
   ]
  },
  {
   "cell_type": "code",
   "execution_count": 8,
   "metadata": {},
   "outputs": [],
   "source": [
    "normalize_data = dataset.Normalizer.transform(data)"
   ]
  },
  {
   "cell_type": "code",
   "execution_count": 9,
   "metadata": {},
   "outputs": [],
   "source": [
    "data_x, data_y = dataset.split_data_x_y(normalize_data)"
   ]
  },
  {
   "cell_type": "code",
   "execution_count": 10,
   "metadata": {},
   "outputs": [],
   "source": [
    "data_x_train, data_x_test = dataset.split_data_train_test(data_x, CONFIG[\"data\"][\"train_split_size\"])\n",
    "data_y_train, data_y_test = dataset.split_data_train_test(data_y, CONFIG[\"data\"][\"train_split_size\"])"
   ]
  },
  {
   "cell_type": "code",
   "execution_count": 11,
   "metadata": {},
   "outputs": [],
   "source": [
    "dataset_train = dataset.TimeSeriesDataset(data_x_train, data_y_train)\n",
    "dataset_test = dataset.TimeSeriesDataset(data_x_test, data_y_test)"
   ]
  },
  {
   "cell_type": "code",
   "execution_count": 12,
   "metadata": {},
   "outputs": [],
   "source": [
    "# DataLoader => Devuelve un conjunto de iteraciones, cada iteracion contiene un arreglo de 'batch_size' registros\n",
    "train_dataloader = DataLoader(dataset_train, CONFIG[\"training\"][\"batch_size\"], shuffle=True)\n",
    "test_dataloader = DataLoader(dataset_test, CONFIG[\"training\"][\"batch_size\"], shuffle=True)"
   ]
  },
  {
   "cell_type": "code",
   "execution_count": 13,
   "metadata": {},
   "outputs": [],
   "source": [
    "model = algorithm.Model(config_model=CONFIG[\"model\"], config_training=CONFIG[\"training\"])"
   ]
  },
  {
   "cell_type": "code",
   "execution_count": 14,
   "metadata": {},
   "outputs": [
    {
     "output_type": "stream",
     "name": "stdout",
     "text": [
      "Epoch[1/100] | loss train:0.005892, test:0.001145 | lr:0.010000\n",
      "Epoch[10/100] | loss train:0.001689, test:0.000475 | lr:0.010000\n",
      "Epoch[20/100] | loss train:0.000999, test:0.000409 | lr:0.010000\n",
      "Epoch[30/100] | loss train:0.000651, test:0.000484 | lr:0.010000\n",
      "Epoch[40/100] | loss train:0.000800, test:0.000660 | lr:0.010000\n",
      "Epoch[50/100] | loss train:0.000492, test:0.000464 | lr:0.010000\n",
      "Epoch[60/100] | loss train:0.000496, test:0.000325 | lr:0.010000\n",
      "Epoch[70/100] | loss train:0.000455, test:0.000307 | lr:0.010000\n",
      "Epoch[80/100] | loss train:0.000449, test:0.000692 | lr:0.010000\n",
      "Epoch[90/100] | loss train:0.000306, test:0.000674 | lr:0.010000\n",
      "Epoch[100/100] | loss train:0.000281, test:0.000361 | lr:0.010000\n"
     ]
    }
   ],
   "source": [
    "# Entrenamiento del modelo\n",
    "for epoch in range(CONFIG[\"training\"][\"num_epoch\"]):\n",
    "    loss_train, lr_train = model.run_epoch(train_dataloader, is_training=True)\n",
    "    loss_test, lr_test = model.run_epoch(test_dataloader)\n",
    "    if epoch == 0 or ((epoch+1)%10 == 0):\n",
    "        print('Epoch[{}/{}] | loss train:{:.6f}, test:{:.6f} | lr:{:.6f}'\n",
    "              .format(epoch+1, CONFIG[\"training\"][\"num_epoch\"], loss_train, loss_test, lr_train))"
   ]
  },
  {
   "cell_type": "code",
   "execution_count": 19,
   "metadata": {},
   "outputs": [
    {
     "output_type": "stream",
     "name": "stdout",
     "text": [
      "Price predict: 161635, Price real: 157000, Diferencia: 4635 (1.0295222929936305)\nPrice predict: 119969, Price real: 132500, Diferencia: -12531 (0.9054264150943396)\nPrice predict: 107846, Price real: 91500, Diferencia: 16346 (1.1786448087431693)\nPrice predict: 160072, Price real: 155835, Diferencia: 4237 (1.0271890140212405)\nPrice predict: 318099, Price real: 302000, Diferencia: 16099 (1.0533079470198676)\nPrice predict: 148938, Price real: 155000, Diferencia: -6062 (0.9608903225806451)\nPrice predict: 86412, Price real: 79000, Diferencia: 7412 (1.0938227848101265)\nPrice predict: 192828, Price real: 239000, Diferencia: -46172 (0.8068117154811716)\nPrice predict: 197163, Price real: 178000, Diferencia: 19163 (1.1076573033707866)\nPrice predict: 134696, Price real: 144000, Diferencia: -9304 (0.9353888888888889)\nPrice predict: 188999, Price real: 186500, Diferencia: 2499 (1.0133994638069705)\nPrice predict: 161977, Price real: 186700, Diferencia: -24723 (0.8675790037493305)\nPrice predict: 101918, Price real: 119500, Diferencia: -17582 (0.8528702928870293)\nPrice predict: 126418, Price real: 160000, Diferencia: -33582 (0.7901125)\nPrice predict: 196908, Price real: 224900, Diferencia: -27992 (0.8755357936860827)\nPrice predict: 115195, Price real: 125000, Diferencia: -9805 (0.92156)\nPrice predict: 98191, Price real: 116050, Diferencia: -17859 (0.8461094355881086)\nPrice predict: 99892, Price real: 115000, Diferencia: -15108 (0.8686260869565218)\nPrice predict: 282552, Price real: 283463, Diferencia: -911 (0.9967861766791433)\nPrice predict: 119330, Price real: 84500, Diferencia: 34830 (1.412189349112426)\nPrice predict: 101559, Price real: 83000, Diferencia: 18559 (1.2236024096385543)\nPrice predict: 193736, Price real: 175500, Diferencia: 18236 (1.103908831908832)\nPrice predict: 185216, Price real: 181000, Diferencia: 4216 (1.023292817679558)\nPrice predict: 168212, Price real: 176500, Diferencia: -8288 (0.953042492917847)\nPrice predict: 190030, Price real: 189000, Diferencia: 1030 (1.0054497354497354)\nPrice predict: 131122, Price real: 147500, Diferencia: -16378 (0.8889627118644068)\nPrice predict: 203550, Price real: 215000, Diferencia: -11450 (0.9467441860465117)\nPrice predict: 122614, Price real: 157900, Diferencia: -35286 (0.7765294490183661)\nPrice predict: 343739, Price real: 147000, Diferencia: 196739 (2.338360544217687)\nPrice predict: 124484, Price real: 137000, Diferencia: -12516 (0.9086423357664234)\nPrice predict: 216918, Price real: 282922, Diferencia: -66004 (0.7667060179130644)\nPrice predict: 119221, Price real: 136500, Diferencia: -17279 (0.8734139194139194)\nPrice predict: 134524, Price real: 190000, Diferencia: -55476 (0.708021052631579)\nPrice predict: 236863, Price real: 287090, Diferencia: -50227 (0.8250478943885193)\nPrice predict: 114774, Price real: 139000, Diferencia: -24226 (0.8257122302158273)\nPrice predict: 204562, Price real: 260000, Diferencia: -55438 (0.786776923076923)\nPrice predict: 266556, Price real: 228500, Diferencia: 38056 (1.1665470459518599)\nPrice predict: 353599, Price real: 333168, Diferencia: 20431 (1.0613234164145415)\nPrice predict: 166953, Price real: 171000, Diferencia: -4047 (0.9763333333333334)\nPrice predict: 180193, Price real: 189000, Diferencia: -8807 (0.9534021164021164)\nPrice predict: 134025, Price real: 148000, Diferencia: -13975 (0.9055743243243243)\nPrice predict: 142536, Price real: 143000, Diferencia: -464 (0.9967552447552448)\nPrice predict: 252286, Price real: 237000, Diferencia: 15286 (1.0644978902953586)\nPrice predict: 241427, Price real: 271000, Diferencia: -29573 (0.8908745387453875)\nPrice predict: 234012, Price real: 235000, Diferencia: -988 (0.9957957446808511)\nPrice predict: 155153, Price real: 177000, Diferencia: -21847 (0.8765706214689265)\nPrice predict: 121452, Price real: 133000, Diferencia: -11548 (0.9131729323308271)\nPrice predict: 128354, Price real: 137500, Diferencia: -9146 (0.9334836363636364)\nPrice predict: 147010, Price real: 156932, Diferencia: -9922 (0.9367751637651976)\nPrice predict: 136481, Price real: 143000, Diferencia: -6519 (0.9544125874125874)\nPrice predict: 128122, Price real: 127000, Diferencia: 1122 (1.0088346456692914)\nPrice predict: 117561, Price real: 115000, Diferencia: 2561 (1.0222695652173912)\nPrice predict: 139116, Price real: 140000, Diferencia: -884 (0.9936857142857143)\nPrice predict: 427136, Price real: 410000, Diferencia: 17136 (1.0417951219512196)\nPrice predict: 209219, Price real: 213000, Diferencia: -3781 (0.9822488262910798)\nPrice predict: 139983, Price real: 149900, Diferencia: -9917 (0.9338425617078052)\nPrice predict: 235726, Price real: 215000, Diferencia: 20726 (1.0964)\nPrice predict: 143025, Price real: 117000, Diferencia: 26025 (1.2224358974358975)\nPrice predict: 291441, Price real: 310000, Diferencia: -18559 (0.9401322580645162)\nPrice predict: 93340, Price real: 113000, Diferencia: -19660 (0.8260176991150443)\nPrice predict: 124535, Price real: 144152, Diferencia: -19617 (0.8639144791608857)\nPrice predict: 308075, Price real: 290000, Diferencia: 18075 (1.0623275862068966)\nPrice predict: 94778, Price real: 68400, Diferencia: 26378 (1.3856432748538012)\nPrice predict: 159217, Price real: 179900, Diferencia: -20683 (0.8850305725403002)\nmargen de error 12.85%\n"
     ]
    }
   ],
   "source": [
    "# Verificacion de la prediccion del modelo\n",
    "error = 0\n",
    "i=0\n",
    "for idx, (x, y) in enumerate(test_dataloader):\n",
    "    i+=1\n",
    "    x = x.to(CONFIG[\"training\"][\"device\"])\n",
    "    out = model(x)\n",
    "    out_vector = out.detach().numpy()\n",
    "    y_vector = y.numpy()\n",
    "    for i in range(len(y_vector)):\n",
    "        price_predict = dataset.Normalizer.inverse_transform(out_vector[i], 21)\n",
    "        price_real = dataset.Normalizer.inverse_transform(y_vector[i], 21)\n",
    "        porcentage = price_predict/price_real\n",
    "        error += abs(1-porcentage)\n",
    "        print('Price predict: {0}, Price real: {1}, Diferencia: {2} ({3})'.format(price_predict, price_real, price_predict-price_real, (porcentage)))\n",
    "    \n",
    "    print(\"margen de error {}%\".format(round(100 * error / i, 2)))\n",
    "    break"
   ]
  },
  {
   "cell_type": "code",
   "execution_count": null,
   "metadata": {},
   "outputs": [],
   "source": []
  }
 ],
 "metadata": {
  "kernelspec": {
   "name": "python3",
   "display_name": "Python 3.9.4 64-bit"
  },
  "language_info": {
   "codemirror_mode": {
    "name": "ipython",
    "version": 3
   },
   "file_extension": ".py",
   "mimetype": "text/x-python",
   "name": "python",
   "nbconvert_exporter": "python",
   "pygments_lexer": "ipython3",
   "version": "3.9.4"
  },
  "interpreter": {
   "hash": "25bf1dab56f13e21d80318cd5e789e076f92a14fa9924f370a2a818164c863f4"
  }
 },
 "nbformat": 4,
 "nbformat_minor": 2
}